{
  "nbformat": 4,
  "nbformat_minor": 0,
  "metadata": {
    "colab": {
      "provenance": []
    },
    "kernelspec": {
      "name": "python3",
      "display_name": "Python 3"
    },
    "language_info": {
      "name": "python"
    }
  },
  "cells": [
    {
      "cell_type": "code",
      "source": [],
      "metadata": {
        "id": "aUey84lDG0iY"
      },
      "execution_count": null,
      "outputs": []
    },
    {
      "cell_type": "code",
      "source": [
        "import os\n",
        "\n",
        "def cortar_y_guardar_archivos(ubicacion_archivo, ubicacion_destino, tamano_segmento=9000):\n",
        "    if not os.path.isfile(ubicacion_archivo):\n",
        "        print(f\"Error: El archivo '{ubicacion_archivo}' no existe.\")\n",
        "        return\n",
        "\n",
        "    # Crear la carpeta de destino si no existe\n",
        "    if not os.path.exists(ubicacion_destino):\n",
        "        os.makedirs(ubicacion_destino)\n",
        "\n",
        "    # Extraer el nombre del archivo sin extensión\n",
        "    nombre_archivo_sin_extension = os.path.splitext(os.path.basename(ubicacion_archivo))[0]\n",
        "\n",
        "    with open(ubicacion_archivo, 'r', encoding='utf-8') as archivo_original:\n",
        "        texto_completo = archivo_original.read()\n",
        "\n",
        "    # Cortar el texto en segmentos de 'tamano_segmento' caracteres\n",
        "    segmentos = [texto_completo[i:i + tamano_segmento] for i in range(0, len(texto_completo), tamano_segmento)]\n",
        "\n",
        "    # Crear y guardar archivos con los segmentos en la nueva ubicación\n",
        "    for i, segmento in enumerate(segmentos):\n",
        "        nombre_archivo = f\"{nombre_archivo_sin_extension}_segmento_{i + 1}.txt\"\n",
        "        ubicacion_nuevo_archivo = os.path.join(ubicacion_destino, nombre_archivo)\n",
        "\n",
        "        with open(ubicacion_nuevo_archivo, 'w', encoding='utf-8') as archivo_segmento:\n",
        "            archivo_segmento.write(segmento)\n",
        "\n",
        "        print(f\"Archivo '{nombre_archivo}' creado exitosamente en '{ubicacion_destino}'.\")\n",
        "\n",
        "# Ejemplo de uso\n",
        "ubicacion_mi_archivo = \"/content/Texto.txt\"\n",
        "ubicacion_destino = \"/content/segmentos\"\n",
        "cortar_y_guardar_archivos(ubicacion_mi_archivo, ubicacion_destino)\n"
      ],
      "metadata": {
        "colab": {
          "base_uri": "https://localhost:8080/"
        },
        "id": "z1FVS79NFqWY",
        "outputId": "391ddb5f-330a-4f4f-a669-561e17ca4af5"
      },
      "execution_count": 1,
      "outputs": [
        {
          "output_type": "stream",
          "name": "stdout",
          "text": [
            "Archivo 'Texto_segmento_1.txt' creado exitosamente en '/content/segmentos'.\n",
            "Archivo 'Texto_segmento_2.txt' creado exitosamente en '/content/segmentos'.\n",
            "Archivo 'Texto_segmento_3.txt' creado exitosamente en '/content/segmentos'.\n",
            "Archivo 'Texto_segmento_4.txt' creado exitosamente en '/content/segmentos'.\n",
            "Archivo 'Texto_segmento_5.txt' creado exitosamente en '/content/segmentos'.\n",
            "Archivo 'Texto_segmento_6.txt' creado exitosamente en '/content/segmentos'.\n"
          ]
        }
      ]
    },
    {
      "cell_type": "code",
      "source": [
        "pip install gtts"
      ],
      "metadata": {
        "colab": {
          "base_uri": "https://localhost:8080/"
        },
        "id": "qsaqordMtdF_",
        "outputId": "34269aa4-c477-4be8-b723-8390bc516d08"
      },
      "execution_count": 2,
      "outputs": [
        {
          "output_type": "stream",
          "name": "stdout",
          "text": [
            "Collecting gtts\n",
            "  Downloading gTTS-2.5.0-py3-none-any.whl (29 kB)\n",
            "Requirement already satisfied: requests<3,>=2.27 in /usr/local/lib/python3.10/dist-packages (from gtts) (2.31.0)\n",
            "Requirement already satisfied: click<8.2,>=7.1 in /usr/local/lib/python3.10/dist-packages (from gtts) (8.1.7)\n",
            "Requirement already satisfied: charset-normalizer<4,>=2 in /usr/local/lib/python3.10/dist-packages (from requests<3,>=2.27->gtts) (3.3.2)\n",
            "Requirement already satisfied: idna<4,>=2.5 in /usr/local/lib/python3.10/dist-packages (from requests<3,>=2.27->gtts) (3.6)\n",
            "Requirement already satisfied: urllib3<3,>=1.21.1 in /usr/local/lib/python3.10/dist-packages (from requests<3,>=2.27->gtts) (2.0.7)\n",
            "Requirement already satisfied: certifi>=2017.4.17 in /usr/local/lib/python3.10/dist-packages (from requests<3,>=2.27->gtts) (2023.11.17)\n",
            "Installing collected packages: gtts\n",
            "Successfully installed gtts-2.5.0\n"
          ]
        }
      ]
    },
    {
      "cell_type": "code",
      "source": [
        "from gtts import gTTS\n",
        "import os\n",
        "\n",
        "def convertir_a_audio(ubicacion_archivos_texto, ubicacion_destino, velocidad=2.0):\n",
        "    # Crear la carpeta de destino si no existe\n",
        "    if not os.path.exists(ubicacion_destino):\n",
        "        os.makedirs(ubicacion_destino)\n",
        "\n",
        "    for archivo_texto in os.listdir(ubicacion_archivos_texto):\n",
        "        if archivo_texto.endswith(\".txt\"):\n",
        "            ruta_completa_texto = os.path.join(ubicacion_archivos_texto, archivo_texto)\n",
        "\n",
        "            with open(ruta_completa_texto, 'r', encoding='utf-8') as archivo:\n",
        "                texto = archivo.read()\n",
        "\n",
        "            # Crear objeto gTTS con acento español de España y velocidad duplicada\n",
        "            tts = gTTS(text=texto, lang='es', tld='es', slow=False)\n",
        "\n",
        "            # Generar nombre de archivo de audio\n",
        "            nombre_archivo_audio = f\"{os.path.splitext(archivo_texto)[0]}.mp3\"\n",
        "            ruta_completa_audio = os.path.join(ubicacion_destino, nombre_archivo_audio)\n",
        "\n",
        "            # Guardar el archivo de audio\n",
        "            tts.save(ruta_completa_audio)\n",
        "\n",
        "            print(f\"Archivo de audio '{nombre_archivo_audio}' creado exitosamente en '{ubicacion_destino}'.\")\n",
        "\n",
        "# Ejemplo de uso con velocidad duplicada y español de España\n",
        "ubicacion_archivos_texto = \"/content/segmentos\"\n",
        "ubicacion_destino_audio = \"/content/archivos_de_audio\"\n",
        "convertir_a_audio(ubicacion_archivos_texto, ubicacion_destino_audio, velocidad=2.0)\n"
      ],
      "metadata": {
        "colab": {
          "base_uri": "https://localhost:8080/"
        },
        "id": "wC0We9KYCzXb",
        "outputId": "a1b6153a-2744-460c-df83-c2b91e2dc86e"
      },
      "execution_count": 3,
      "outputs": [
        {
          "output_type": "stream",
          "name": "stdout",
          "text": [
            "Archivo de audio 'Texto_segmento_2.mp3' creado exitosamente en '/content/archivos_de_audio'.\n",
            "Archivo de audio 'Texto_segmento_5.mp3' creado exitosamente en '/content/archivos_de_audio'.\n",
            "Archivo de audio 'Texto_segmento_4.mp3' creado exitosamente en '/content/archivos_de_audio'.\n",
            "Archivo de audio 'Texto_segmento_1.mp3' creado exitosamente en '/content/archivos_de_audio'.\n",
            "Archivo de audio 'Texto_segmento_3.mp3' creado exitosamente en '/content/archivos_de_audio'.\n",
            "Archivo de audio 'Texto_segmento_6.mp3' creado exitosamente en '/content/archivos_de_audio'.\n"
          ]
        }
      ]
    }
  ]
}